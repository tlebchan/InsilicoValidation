{
 "cells": [
  {
   "cell_type": "markdown",
   "id": "ef52996f",
   "metadata": {
    "toc": true
   },
   "source": [
    "<h1>Table of Contents<span class=\"tocSkip\"></span></h1>\n",
    "<div class=\"toc\"><ul class=\"toc-item\"><li><span><a href=\"#RepeatMasker-+-target\" data-toc-modified-id=\"RepeatMasker-+-target-1\"><span class=\"toc-item-num\">1&nbsp;&nbsp;</span>RepeatMasker + target</a></span></li><li><span><a href=\"#Generation-config-bamsurgeon-files\" data-toc-modified-id=\"Generation-config-bamsurgeon-files-2\"><span class=\"toc-item-num\">2&nbsp;&nbsp;</span>Generation config bamsurgeon files</a></span><ul class=\"toc-item\"><li><span><a href=\"#INDELs\" data-toc-modified-id=\"INDELs-2.1\"><span class=\"toc-item-num\">2.1&nbsp;&nbsp;</span>INDELs</a></span></li><li><span><a href=\"#SNPs\" data-toc-modified-id=\"SNPs-2.2\"><span class=\"toc-item-num\">2.2&nbsp;&nbsp;</span>SNPs</a></span></li></ul></li></ul></div>"
   ]
  },
  {
   "cell_type": "code",
   "execution_count": 7,
   "id": "b42f2478",
   "metadata": {
    "ExecuteTime": {
     "end_time": "2023-05-24T07:42:24.508860Z",
     "start_time": "2023-05-24T07:42:24.502848Z"
    }
   },
   "outputs": [],
   "source": [
    "import pandas as pd\n",
    "import numpy as np\n",
    "import json\n",
    "import subprocess\n",
    "\n",
    "import pybedtools\n",
    "import scipy.stats as stats"
   ]
  },
  {
   "cell_type": "markdown",
   "id": "cb8e5af0",
   "metadata": {},
   "source": [
    "# RepeatMasker + target"
   ]
  },
  {
   "cell_type": "code",
   "execution_count": 71,
   "id": "93f7add6",
   "metadata": {
    "ExecuteTime": {
     "end_time": "2023-05-11T10:05:20.686524Z",
     "start_time": "2023-05-11T10:05:20.572792Z"
    }
   },
   "outputs": [],
   "source": [
    "# MODIFY\n",
    "target_regions_path = 'target_regions.bed'\n",
    "# target_regions.bed should contain data about regions\n",
    "# well covered in KIT used for DNA hybridisation"
   ]
  },
  {
   "cell_type": "code",
   "execution_count": null,
   "id": "084a0e45",
   "metadata": {},
   "outputs": [],
   "source": [
    "target_regions = pd.read_table(target_regions_path, names = ['chr', 'start', 'end', 'gene'])\n",
    "target_regions['chr_n'] = target_regions['chr'].apply(lambda x: x[3:]).replace({'X': 23, 'Y': 24, 'M': 25}).astype(int)\n",
    "target_regions = target_regions.sort_values(by=['chr_n', 'start']).reset_index(drop=True)\n",
    "target_regions = target_regions.drop(columns=['chr_n'])"
   ]
  },
  {
   "cell_type": "code",
   "execution_count": 76,
   "id": "b0f43e3f",
   "metadata": {
    "ExecuteTime": {
     "end_time": "2023-05-11T10:09:28.397932Z",
     "start_time": "2023-05-11T10:05:44.752073Z"
    },
    "scrolled": true
   },
   "outputs": [
    {
     "name": "stderr",
     "output_type": "stream",
     "text": [
      "  % Total    % Received % Xferd  Average Speed   Time    Time     Time  Current\n",
      "                                 Dload  Upload   Total   Spent    Left  Speed\n",
      "100 78.4M    0 78.4M    0     0  11.0M      0 --:--:--  0:00:07 --:--:-- 20.8M\n"
     ]
    },
    {
     "name": "stdout",
     "output_type": "stream",
     "text": [
      "269017 recordings from chrX were loaded\n"
     ]
    },
    {
     "name": "stderr",
     "output_type": "stream",
     "text": [
      "  % Total    % Received % Xferd  Average Speed   Time    Time     Time  Current\n",
      "                                 Dload  Upload   Total   Spent    Left  Speed\n",
      "100 12.2M    0 12.2M    0     0  5774k      0 --:--:--  0:00:02 --:--:-- 5774k\n"
     ]
    },
    {
     "name": "stdout",
     "output_type": "stream",
     "text": [
      "42178 recordings from chrY were loaded\n"
     ]
    },
    {
     "name": "stderr",
     "output_type": "stream",
     "text": [
      "  % Total    % Received % Xferd  Average Speed   Time    Time     Time  Current\n",
      "                                 Dload  Upload   Total   Spent    Left  Speed\n",
      "100  1767    0  1767    0     0   4750      0 --:--:-- --:--:-- --:--:--  4750\n",
      "  % Total    % Received % Xferd  Average Speed   Time    Time     Time  Current\n",
      "                                 Dload  Upload   Total   Spent    Left  Speed\n",
      "  0     0    0     0    0     0      0      0 --:--:-- --:--:-- --:--:--     0"
     ]
    },
    {
     "name": "stdout",
     "output_type": "stream",
     "text": [
      "5 recordings from chrM were loaded\n"
     ]
    },
    {
     "name": "stderr",
     "output_type": "stream",
     "text": [
      "100  129M    0  129M    0     0  11.0M      0 --:--:--  0:00:11 --:--:-- 33.8M\n"
     ]
    },
    {
     "name": "stdout",
     "output_type": "stream",
     "text": [
      "444211 recordings from chr1 were loaded\n"
     ]
    },
    {
     "name": "stderr",
     "output_type": "stream",
     "text": [
      "  % Total    % Received % Xferd  Average Speed   Time    Time     Time  Current\n",
      "                                 Dload  Upload   Total   Spent    Left  Speed\n",
      "100  123M    0  123M    0     0  9752k      0 --:--:--  0:00:12 --:--:-- 33.3M\n"
     ]
    },
    {
     "name": "stdout",
     "output_type": "stream",
     "text": [
      "420604 recordings from chr2 were loaded\n"
     ]
    },
    {
     "name": "stderr",
     "output_type": "stream",
     "text": [
      "  % Total    % Received % Xferd  Average Speed   Time    Time     Time  Current\n",
      "                                 Dload  Upload   Total   Spent    Left  Speed\n",
      "100  103M    0  103M    0     0  11.3M      0 --:--:--  0:00:09 --:--:-- 26.6M\n"
     ]
    },
    {
     "name": "stdout",
     "output_type": "stream",
     "text": [
      "352849 recordings from chr3 were loaded\n"
     ]
    },
    {
     "name": "stderr",
     "output_type": "stream",
     "text": [
      "  % Total    % Received % Xferd  Average Speed   Time    Time     Time  Current\n",
      "                                 Dload  Upload   Total   Spent    Left  Speed\n",
      "100 93.7M    0 93.7M    0     0  10.4M      0 --:--:--  0:00:08 --:--:-- 24.9M\n"
     ]
    },
    {
     "name": "stdout",
     "output_type": "stream",
     "text": [
      "320390 recordings from chr4 were loaded\n"
     ]
    },
    {
     "name": "stderr",
     "output_type": "stream",
     "text": [
      "  % Total    % Received % Xferd  Average Speed   Time    Time     Time  Current\n",
      "                                 Dload  Upload   Total   Spent    Left  Speed\n",
      "100 90.9M    0 90.9M    0     0  10.1M      0 --:--:--  0:00:08 --:--:-- 19.1M\n"
     ]
    },
    {
     "name": "stdout",
     "output_type": "stream",
     "text": [
      "310963 recordings from chr5 were loaded\n"
     ]
    },
    {
     "name": "stderr",
     "output_type": "stream",
     "text": [
      "  % Total    % Received % Xferd  Average Speed   Time    Time     Time  Current\n",
      "                                 Dload  Upload   Total   Spent    Left  Speed\n",
      "100 85.2M    0 85.2M    0     0  10.8M      0 --:--:--  0:00:07 --:--:-- 18.3M\n"
     ]
    },
    {
     "name": "stdout",
     "output_type": "stream",
     "text": [
      "291887 recordings from chr6 were loaded\n"
     ]
    },
    {
     "name": "stderr",
     "output_type": "stream",
     "text": [
      "  % Total    % Received % Xferd  Average Speed   Time    Time     Time  Current\n",
      "                                 Dload  Upload   Total   Spent    Left  Speed\n",
      "100 82.7M    0 82.7M    0     0  10.8M      0 --:--:--  0:00:07 --:--:-- 18.7M\n"
     ]
    },
    {
     "name": "stdout",
     "output_type": "stream",
     "text": [
      "283521 recordings from chr7 were loaded\n"
     ]
    },
    {
     "name": "stderr",
     "output_type": "stream",
     "text": [
      "  % Total    % Received % Xferd  Average Speed   Time    Time     Time  Current\n",
      "                                 Dload  Upload   Total   Spent    Left  Speed\n",
      "100 74.6M    0 74.6M    0     0  10.7M      0 --:--:--  0:00:06 --:--:-- 19.9M\n"
     ]
    },
    {
     "name": "stdout",
     "output_type": "stream",
     "text": [
      "255996 recordings from chr8 were loaded\n"
     ]
    },
    {
     "name": "stderr",
     "output_type": "stream",
     "text": [
      "  % Total    % Received % Xferd  Average Speed   Time    Time     Time  Current\n",
      "                                 Dload  Upload   Total   Spent    Left  Speed\n",
      "100 65.6M    0 65.6M    0     0  11.8M      0 --:--:--  0:00:05 --:--:-- 15.3M\n"
     ]
    },
    {
     "name": "stdout",
     "output_type": "stream",
     "text": [
      "225099 recordings from chr9 were loaded\n"
     ]
    },
    {
     "name": "stderr",
     "output_type": "stream",
     "text": [
      "  % Total    % Received % Xferd  Average Speed   Time    Time     Time  Current\n",
      "                                 Dload  Upload   Total   Spent    Left  Speed\n",
      "100 69.9M    0 69.9M    0     0  8607k      0 --:--:--  0:00:08 --:--:-- 17.1M\n"
     ]
    },
    {
     "name": "stdout",
     "output_type": "stream",
     "text": [
      "239471 recordings from chr10 were loaded\n"
     ]
    },
    {
     "name": "stderr",
     "output_type": "stream",
     "text": [
      "  % Total    % Received % Xferd  Average Speed   Time    Time     Time  Current\n",
      "                                 Dload  Upload   Total   Spent    Left  Speed\n",
      "100 71.4M    0 71.4M    0     0  9996k      0 --:--:--  0:00:07 --:--:-- 17.4M\n"
     ]
    },
    {
     "name": "stdout",
     "output_type": "stream",
     "text": [
      "244770 recordings from chr11 were loaded\n"
     ]
    },
    {
     "name": "stderr",
     "output_type": "stream",
     "text": [
      "  % Total    % Received % Xferd  Average Speed   Time    Time     Time  Current\n",
      "                                 Dload  Upload   Total   Spent    Left  Speed\n",
      "100 74.1M    0 74.1M    0     0  9928k      0 --:--:--  0:00:07 --:--:-- 21.6M\n"
     ]
    },
    {
     "name": "stdout",
     "output_type": "stream",
     "text": [
      "253908 recordings from chr12 were loaded\n"
     ]
    },
    {
     "name": "stderr",
     "output_type": "stream",
     "text": [
      "  % Total    % Received % Xferd  Average Speed   Time    Time     Time  Current\n",
      "                                 Dload  Upload   Total   Spent    Left  Speed\n",
      "100 47.4M    0 47.4M    0     0  9561k      0 --:--:--  0:00:05 --:--:--  9.7M\n"
     ]
    },
    {
     "name": "stdout",
     "output_type": "stream",
     "text": [
      "162104 recordings from chr13 were loaded\n"
     ]
    },
    {
     "name": "stderr",
     "output_type": "stream",
     "text": [
      "  % Total    % Received % Xferd  Average Speed   Time    Time     Time  Current\n",
      "                                 Dload  Upload   Total   Spent    Left  Speed\n",
      "100 47.5M    0 47.5M    0     0  8615k      0 --:--:--  0:00:05 --:--:-- 13.8M\n"
     ]
    },
    {
     "name": "stdout",
     "output_type": "stream",
     "text": [
      "162899 recordings from chr14 were loaded\n"
     ]
    },
    {
     "name": "stderr",
     "output_type": "stream",
     "text": [
      "  % Total    % Received % Xferd  Average Speed   Time    Time     Time  Current\n",
      "                                 Dload  Upload   Total   Spent    Left  Speed\n",
      "100 45.6M    0 45.6M    0     0  8319k      0 --:--:--  0:00:05 --:--:-- 10.4M\n"
     ]
    },
    {
     "name": "stdout",
     "output_type": "stream",
     "text": [
      "156706 recordings from chr15 were loaded\n"
     ]
    },
    {
     "name": "stderr",
     "output_type": "stream",
     "text": [
      "  % Total    % Received % Xferd  Average Speed   Time    Time     Time  Current\n",
      "                                 Dload  Upload   Total   Spent    Left  Speed\n",
      "100 50.5M    0 50.5M    0     0  8691k      0 --:--:--  0:00:05 --:--:-- 13.5M\n"
     ]
    },
    {
     "name": "stdout",
     "output_type": "stream",
     "text": [
      "174004 recordings from chr16 were loaded\n"
     ]
    },
    {
     "name": "stderr",
     "output_type": "stream",
     "text": [
      "  % Total    % Received % Xferd  Average Speed   Time    Time     Time  Current\n",
      "                                 Dload  Upload   Total   Spent    Left  Speed\n",
      "100 49.4M    0 49.4M    0     0   9.9M      0 --:--:--  0:00:04 --:--:-- 10.4M\n"
     ]
    },
    {
     "name": "stdout",
     "output_type": "stream",
     "text": [
      "170331 recordings from chr17 were loaded\n"
     ]
    },
    {
     "name": "stderr",
     "output_type": "stream",
     "text": [
      "  % Total    % Received % Xferd  Average Speed   Time    Time     Time  Current\n",
      "                                 Dload  Upload   Total   Spent    Left  Speed\n",
      "100 37.3M    0 37.3M    0     0  8068k      0 --:--:--  0:00:04 --:--:-- 9651k\n"
     ]
    },
    {
     "name": "stdout",
     "output_type": "stream",
     "text": [
      "128189 recordings from chr18 were loaded\n"
     ]
    },
    {
     "name": "stderr",
     "output_type": "stream",
     "text": [
      "  % Total    % Received % Xferd  Average Speed   Time    Time     Time  Current\n",
      "                                 Dload  Upload   Total   Spent    Left  Speed\n",
      "100 39.2M    0 39.2M    0     0  9083k      0 --:--:--  0:00:04 --:--:-- 9083k\n"
     ]
    },
    {
     "name": "stdout",
     "output_type": "stream",
     "text": [
      "135381 recordings from chr19 were loaded\n"
     ]
    },
    {
     "name": "stderr",
     "output_type": "stream",
     "text": [
      "  % Total    % Received % Xferd  Average Speed   Time    Time     Time  Current\n",
      "                                 Dload  Upload   Total   Spent    Left  Speed\n",
      "100 37.3M    0 37.3M    0     0  8448k      0 --:--:--  0:00:04 --:--:-- 8448k\n"
     ]
    },
    {
     "name": "stdout",
     "output_type": "stream",
     "text": [
      "128475 recordings from chr20 were loaded\n"
     ]
    },
    {
     "name": "stderr",
     "output_type": "stream",
     "text": [
      "  % Total    % Received % Xferd  Average Speed   Time    Time     Time  Current\n",
      "                                 Dload  Upload   Total   Spent    Left  Speed\n",
      "100 18.8M    0 18.8M    0     0  8032k      0 --:--:--  0:00:02 --:--:-- 8032k\n"
     ]
    },
    {
     "name": "stdout",
     "output_type": "stream",
     "text": [
      "64812 recordings from chr21 were loaded\n"
     ]
    },
    {
     "name": "stderr",
     "output_type": "stream",
     "text": [
      "  % Total    % Received % Xferd  Average Speed   Time    Time     Time  Current\n",
      "                                 Dload  Upload   Total   Spent    Left  Speed\n",
      "100 23.0M    0 23.0M    0     0  9678k      0 --:--:--  0:00:02 --:--:-- 9678k\n"
     ]
    },
    {
     "name": "stdout",
     "output_type": "stream",
     "text": [
      "79521 recordings from chr22 were loaded\n",
      "Overall 5317291 recordings\n"
     ]
    }
   ],
   "source": [
    "# RepeatMasker annotation download\n",
    "\n",
    "if __name__ == '__main__':\n",
    "\n",
    "    #     MODIFY\n",
    "    output_path = '/home/gkhegai/Projects/2022/LDT_development/rmsk_files'\n",
    "    rmsk_link = 'https://api.genome.ucsc.edu/getData/track?genome=hg38;track=rmsk'\n",
    "\n",
    "    #     if you want to parse RepeatMasker additional annotation apart from canonical chromosomes\n",
    "\n",
    "    #     chr_list_link = 'https://api.genome.ucsc.edu/list/chromosomes?genome=hg38;track=rmsk'\n",
    "    #     chr_list_file_name = 'chr_list.json'\n",
    "    #     subprocess.Popen(['bash', output_path+'/download.sh', chr_list_link, output_path, chr_list_file_name])\n",
    "    #     with open(output_path+'/'+chr_list_file_name, 'r') as file:\n",
    "    #         chr_list_str = file.read()\n",
    "    #     chr_list_json = json.loads(chr_list_str)\n",
    "    #     chrom_list = chr_list_json['chromosomes'].keys()\n",
    "\n",
    "    #     chromosomes to search low complexity and simple repeats\n",
    "    chrom_list = ['chrX', 'chrY', 'chrM']\n",
    "    for i in range(1, 23):\n",
    "        chrom_list.append(f'chr{i}')\n",
    "\n",
    "    #     parsing process for all the chromosomes from chr_list\n",
    "    datas = []\n",
    "    for chrom in chrom_list:\n",
    "        process = subprocess.Popen(['curl', '-L', f'{rmsk_link};chrom={chrom}'],\n",
    "                                   stdout=subprocess.PIPE)\n",
    "        output, error = process.communicate()\n",
    "        chr_tmp_json = json.loads(output)\n",
    "        datas.append(pd.DataFrame(chr_tmp_json['rmsk']))\n",
    "        print(f'{datas[-1].shape[0]} recordings from {chrom} were loaded')\n",
    "\n",
    "    #     column standartisation\n",
    "    #     and only Simple_repeat, Low_complexity repClass were left\n",
    "    data_agg = pd.concat(datas).reset_index(drop=True)[['genoName', 'genoStart', 'genoEnd', 'repName', 'repClass']]\n",
    "    print(f'Overall {data_agg.shape[0]} recordings')\n",
    "    data_agg.columns = ['chr', 'start', 'end', 'repName', 'repClass']"
   ]
  },
  {
   "cell_type": "code",
   "execution_count": 77,
   "id": "1ff9ba65",
   "metadata": {
    "ExecuteTime": {
     "end_time": "2023-05-11T10:09:32.050738Z",
     "start_time": "2023-05-11T10:09:28.401473Z"
    }
   },
   "outputs": [],
   "source": [
    "data_agg['chr_n'] = data_agg['chr'].apply(lambda x: x[3:]).replace({'X': 23, 'Y': 24, 'M': 25}).astype(int)\n",
    "data_agg = data_agg.sort_values(by=['chr_n', 'start']).reset_index(drop=True)\n",
    "data_agg = data_agg.drop(columns=['chr_n'])\n",
    "data_agg = data_agg[~data_agg.chr.isin(['chrM'])]\n",
    "data_agg_bed = pybedtools.BedTool(data_agg.iloc[:, :4].values.tolist())"
   ]
  },
  {
   "cell_type": "code",
   "execution_count": 207,
   "id": "52c52647",
   "metadata": {
    "ExecuteTime": {
     "end_time": "2023-05-11T21:48:48.903425Z",
     "start_time": "2023-05-11T21:48:47.920783Z"
    }
   },
   "outputs": [],
   "source": [
    "# filter appropriate genes from your .bed file\n",
    "# if you don't have them in your .bed file\n",
    "# use all regions\n",
    "\n",
    "target_regions_bed = pybedtools.BedTool(\n",
    "    target_regions[\n",
    "        ~target_regions.gene.isin(['non-coding'])\n",
    "    ].values.tolist()\n",
    ")"
   ]
  },
  {
   "cell_type": "code",
   "execution_count": 107,
   "id": "8507056c",
   "metadata": {
    "ExecuteTime": {
     "end_time": "2023-05-11T10:18:55.585579Z",
     "start_time": "2023-05-11T10:18:52.642460Z"
    }
   },
   "outputs": [],
   "source": [
    "intersect_bed = data_agg_bed.intersect(target_regions_bed)\n",
    "intersect_df = intersect_bed.to_dataframe()"
   ]
  },
  {
   "cell_type": "code",
   "execution_count": 138,
   "id": "6d1ef7b9",
   "metadata": {
    "ExecuteTime": {
     "end_time": "2023-05-11T10:48:58.107837Z",
     "start_time": "2023-05-11T10:48:58.091489Z"
    }
   },
   "outputs": [
    {
     "data": {
      "text/html": [
       "<div>\n",
       "<style scoped>\n",
       "    .dataframe tbody tr th:only-of-type {\n",
       "        vertical-align: middle;\n",
       "    }\n",
       "\n",
       "    .dataframe tbody tr th {\n",
       "        vertical-align: top;\n",
       "    }\n",
       "\n",
       "    .dataframe thead th {\n",
       "        text-align: right;\n",
       "    }\n",
       "</style>\n",
       "<table border=\"1\" class=\"dataframe\">\n",
       "  <thead>\n",
       "    <tr style=\"text-align: right;\">\n",
       "      <th></th>\n",
       "      <th>chrom</th>\n",
       "      <th>start</th>\n",
       "      <th>end</th>\n",
       "      <th>name</th>\n",
       "    </tr>\n",
       "  </thead>\n",
       "  <tbody>\n",
       "    <tr>\n",
       "      <th>0</th>\n",
       "      <td>chr1</td>\n",
       "      <td>1179681</td>\n",
       "      <td>1179734</td>\n",
       "      <td>(CCCTG)n</td>\n",
       "    </tr>\n",
       "    <tr>\n",
       "      <th>1</th>\n",
       "      <td>chr1</td>\n",
       "      <td>1180410</td>\n",
       "      <td>1180428</td>\n",
       "      <td>(CCCGCCG)n</td>\n",
       "    </tr>\n",
       "    <tr>\n",
       "      <th>2</th>\n",
       "      <td>chr1</td>\n",
       "      <td>1355135</td>\n",
       "      <td>1355160</td>\n",
       "      <td>G-rich</td>\n",
       "    </tr>\n",
       "    <tr>\n",
       "      <th>3</th>\n",
       "      <td>chr1</td>\n",
       "      <td>1355181</td>\n",
       "      <td>1355232</td>\n",
       "      <td>G-rich</td>\n",
       "    </tr>\n",
       "    <tr>\n",
       "      <th>4</th>\n",
       "      <td>chr1</td>\n",
       "      <td>1355384</td>\n",
       "      <td>1355454</td>\n",
       "      <td>(GCCCCCG)n</td>\n",
       "    </tr>\n",
       "    <tr>\n",
       "      <th>...</th>\n",
       "      <td>...</td>\n",
       "      <td>...</td>\n",
       "      <td>...</td>\n",
       "      <td>...</td>\n",
       "    </tr>\n",
       "    <tr>\n",
       "      <th>5925</th>\n",
       "      <td>chrX</td>\n",
       "      <td>153909582</td>\n",
       "      <td>153909591</td>\n",
       "      <td>MER5A</td>\n",
       "    </tr>\n",
       "    <tr>\n",
       "      <th>5926</th>\n",
       "      <td>chrX</td>\n",
       "      <td>153913431</td>\n",
       "      <td>153913471</td>\n",
       "      <td>(CCTGCCG)n</td>\n",
       "    </tr>\n",
       "    <tr>\n",
       "      <th>5927</th>\n",
       "      <td>chrX</td>\n",
       "      <td>153920545</td>\n",
       "      <td>153920555</td>\n",
       "      <td>(GCCCT)n</td>\n",
       "    </tr>\n",
       "    <tr>\n",
       "      <th>5928</th>\n",
       "      <td>chrX</td>\n",
       "      <td>154463529</td>\n",
       "      <td>154463573</td>\n",
       "      <td>(GGTGGTG)n</td>\n",
       "    </tr>\n",
       "    <tr>\n",
       "      <th>5929</th>\n",
       "      <td>chrX</td>\n",
       "      <td>154467475</td>\n",
       "      <td>154467503</td>\n",
       "      <td>(GGGCG)n</td>\n",
       "    </tr>\n",
       "  </tbody>\n",
       "</table>\n",
       "<p>5930 rows × 4 columns</p>\n",
       "</div>"
      ],
      "text/plain": [
       "     chrom      start        end        name\n",
       "0     chr1    1179681    1179734    (CCCTG)n\n",
       "1     chr1    1180410    1180428  (CCCGCCG)n\n",
       "2     chr1    1355135    1355160      G-rich\n",
       "3     chr1    1355181    1355232      G-rich\n",
       "4     chr1    1355384    1355454  (GCCCCCG)n\n",
       "...    ...        ...        ...         ...\n",
       "5925  chrX  153909582  153909591       MER5A\n",
       "5926  chrX  153913431  153913471  (CCTGCCG)n\n",
       "5927  chrX  153920545  153920555    (GCCCT)n\n",
       "5928  chrX  154463529  154463573  (GGTGGTG)n\n",
       "5929  chrX  154467475  154467503    (GGGCG)n\n",
       "\n",
       "[5930 rows x 4 columns]"
      ]
     },
     "execution_count": 138,
     "metadata": {},
     "output_type": "execute_result"
    }
   ],
   "source": [
    "intersect_df"
   ]
  },
  {
   "cell_type": "code",
   "execution_count": 209,
   "id": "dda626e8",
   "metadata": {
    "ExecuteTime": {
     "end_time": "2023-05-11T21:49:25.639006Z",
     "start_time": "2023-05-11T21:49:22.358025Z"
    }
   },
   "outputs": [],
   "source": [
    "subtract_bed = target_regions_bed.subtract(data_agg_bed)\n",
    "subtract_df = subtract_bed.to_dataframe()"
   ]
  },
  {
   "cell_type": "code",
   "execution_count": 211,
   "id": "3f2b50e0",
   "metadata": {
    "ExecuteTime": {
     "end_time": "2023-05-11T21:49:25.693555Z",
     "start_time": "2023-05-11T21:49:25.680537Z"
    }
   },
   "outputs": [
    {
     "data": {
      "text/html": [
       "<div>\n",
       "<style scoped>\n",
       "    .dataframe tbody tr th:only-of-type {\n",
       "        vertical-align: middle;\n",
       "    }\n",
       "\n",
       "    .dataframe tbody tr th {\n",
       "        vertical-align: top;\n",
       "    }\n",
       "\n",
       "    .dataframe thead th {\n",
       "        text-align: right;\n",
       "    }\n",
       "</style>\n",
       "<table border=\"1\" class=\"dataframe\">\n",
       "  <thead>\n",
       "    <tr style=\"text-align: right;\">\n",
       "      <th></th>\n",
       "      <th>chrom</th>\n",
       "      <th>start</th>\n",
       "      <th>end</th>\n",
       "      <th>name</th>\n",
       "    </tr>\n",
       "  </thead>\n",
       "  <tbody>\n",
       "    <tr>\n",
       "      <th>0</th>\n",
       "      <td>chr1</td>\n",
       "      <td>1179211</td>\n",
       "      <td>1179376</td>\n",
       "      <td>TTLL10</td>\n",
       "    </tr>\n",
       "    <tr>\n",
       "      <th>1</th>\n",
       "      <td>chr1</td>\n",
       "      <td>1179594</td>\n",
       "      <td>1179681</td>\n",
       "      <td>TTLL10</td>\n",
       "    </tr>\n",
       "    <tr>\n",
       "      <th>2</th>\n",
       "      <td>chr1</td>\n",
       "      <td>1179734</td>\n",
       "      <td>1179759</td>\n",
       "      <td>TTLL10</td>\n",
       "    </tr>\n",
       "    <tr>\n",
       "      <th>3</th>\n",
       "      <td>chr1</td>\n",
       "      <td>1179939</td>\n",
       "      <td>1180352</td>\n",
       "      <td>TTLL10</td>\n",
       "    </tr>\n",
       "    <tr>\n",
       "      <th>4</th>\n",
       "      <td>chr1</td>\n",
       "      <td>1180428</td>\n",
       "      <td>1180837</td>\n",
       "      <td>TTLL10</td>\n",
       "    </tr>\n",
       "    <tr>\n",
       "      <th>...</th>\n",
       "      <td>...</td>\n",
       "      <td>...</td>\n",
       "      <td>...</td>\n",
       "      <td>...</td>\n",
       "    </tr>\n",
       "    <tr>\n",
       "      <th>50792</th>\n",
       "      <td>chrX</td>\n",
       "      <td>154470007</td>\n",
       "      <td>154470175</td>\n",
       "      <td>PLXNA3</td>\n",
       "    </tr>\n",
       "    <tr>\n",
       "      <th>50793</th>\n",
       "      <td>chrX</td>\n",
       "      <td>154470423</td>\n",
       "      <td>154470588</td>\n",
       "      <td>PLXNA3</td>\n",
       "    </tr>\n",
       "    <tr>\n",
       "      <th>50794</th>\n",
       "      <td>chrX</td>\n",
       "      <td>154471108</td>\n",
       "      <td>154471273</td>\n",
       "      <td>PLXNA3</td>\n",
       "    </tr>\n",
       "    <tr>\n",
       "      <th>50795</th>\n",
       "      <td>chrX</td>\n",
       "      <td>154471460</td>\n",
       "      <td>154471625</td>\n",
       "      <td>PLXNA3</td>\n",
       "    </tr>\n",
       "    <tr>\n",
       "      <th>50796</th>\n",
       "      <td>chrX</td>\n",
       "      <td>154472574</td>\n",
       "      <td>154472739</td>\n",
       "      <td>PLXNA3</td>\n",
       "    </tr>\n",
       "  </tbody>\n",
       "</table>\n",
       "<p>50797 rows × 4 columns</p>\n",
       "</div>"
      ],
      "text/plain": [
       "      chrom      start        end    name\n",
       "0      chr1    1179211    1179376  TTLL10\n",
       "1      chr1    1179594    1179681  TTLL10\n",
       "2      chr1    1179734    1179759  TTLL10\n",
       "3      chr1    1179939    1180352  TTLL10\n",
       "4      chr1    1180428    1180837  TTLL10\n",
       "...     ...        ...        ...     ...\n",
       "50792  chrX  154470007  154470175  PLXNA3\n",
       "50793  chrX  154470423  154470588  PLXNA3\n",
       "50794  chrX  154471108  154471273  PLXNA3\n",
       "50795  chrX  154471460  154471625  PLXNA3\n",
       "50796  chrX  154472574  154472739  PLXNA3\n",
       "\n",
       "[50797 rows x 4 columns]"
      ]
     },
     "execution_count": 211,
     "metadata": {},
     "output_type": "execute_result"
    }
   ],
   "source": [
    "subtract_df"
   ]
  },
  {
   "cell_type": "markdown",
   "id": "da899917",
   "metadata": {},
   "source": [
    "# Generation config bamsurgeon files"
   ]
  },
  {
   "cell_type": "code",
   "execution_count": 201,
   "id": "dd03d1ef",
   "metadata": {
    "ExecuteTime": {
     "end_time": "2023-05-11T21:34:09.603472Z",
     "start_time": "2023-05-11T21:34:09.597370Z"
    },
    "scrolled": true
   },
   "outputs": [],
   "source": [
    "indel_len_list = [i for i in range(1, 50) if i%3!=0]"
   ]
  },
  {
   "cell_type": "code",
   "execution_count": 170,
   "id": "f139af24",
   "metadata": {
    "ExecuteTime": {
     "end_time": "2023-05-11T21:05:39.547921Z",
     "start_time": "2023-05-11T21:05:39.541537Z"
    }
   },
   "outputs": [],
   "source": [
    "def random_ins(indel_len_list):\n",
    "    len_ins = np.random.choice(indel_len_list)\n",
    "    ins = ''.join(np.random.choice(['A', 'T', 'G', 'C'], len_ins))\n",
    "    return ins"
   ]
  },
  {
   "cell_type": "code",
   "execution_count": 258,
   "id": "d590232a",
   "metadata": {
    "ExecuteTime": {
     "end_time": "2023-05-11T22:15:10.448373Z",
     "start_time": "2023-05-11T22:15:10.439026Z"
    }
   },
   "outputs": [],
   "source": [
    "def gen_ins(regions_df, n):\n",
    "    \n",
    "    ins_df = regions_df.sample(n).copy()\n",
    "    ins_df['ins'] = [random_ins(indel_len_list) for _ in range(ins_df.shape[0])]\n",
    "    ins_df['ins_start'] = (ins_df.start+ins_df.end)/2\n",
    "    ins_df['ins_start'] = ins_df['ins_start'].astype(int)\n",
    "    ins_df['ins_end'] = ins_df['ins_start'] + 1\n",
    "    ins_df['label'] = 'INS'\n",
    "    \n",
    "    ins_df = ins_df[['chrom', 'ins_start', 'ins_end', 'label', 'ins']]\n",
    "    ins_df.columns = ['chrom', 'start', 'end', 'label', 'ins']\n",
    "    \n",
    "    return ins_df"
   ]
  },
  {
   "cell_type": "code",
   "execution_count": 240,
   "id": "b9b667d1",
   "metadata": {
    "ExecuteTime": {
     "end_time": "2023-05-11T22:08:38.661249Z",
     "start_time": "2023-05-11T22:08:38.653371Z"
    }
   },
   "outputs": [],
   "source": [
    "def gen_del(regions_df, n):\n",
    "    \n",
    "    del_df = regions_df.sample(n).copy()\n",
    "    del_df['del_size'] = np.random.choice(indel_len_list, del_df.shape[0])\n",
    "    del_df['del_start'] = del_df.start\n",
    "    del_df['del_end'] = del_df['del_start'] + del_df['del_size']\n",
    "    del_df['label'] = 'DEL'\n",
    "    \n",
    "    del_df = del_df[['chrom', 'del_start', 'del_end', 'label']]\n",
    "    del_df.columns = ['chrom', 'start', 'end', 'label']\n",
    "    \n",
    "    return del_df"
   ]
  },
  {
   "cell_type": "code",
   "execution_count": 280,
   "id": "dfee9914",
   "metadata": {
    "ExecuteTime": {
     "end_time": "2023-05-11T22:52:43.914039Z",
     "start_time": "2023-05-11T22:52:43.907794Z"
    }
   },
   "outputs": [],
   "source": [
    "def gen_snp(regions_df, n):\n",
    "    \n",
    "    snp_df = regions_df.sample(n).copy()\n",
    "    snp_df['end'] = snp_df.start\n",
    "    snp_df = snp_df[['chrom', 'start', 'end']]\n",
    "    \n",
    "    return snp_df"
   ]
  },
  {
   "cell_type": "code",
   "execution_count": 273,
   "id": "e277d987",
   "metadata": {
    "ExecuteTime": {
     "end_time": "2023-05-11T22:34:04.342179Z",
     "start_time": "2023-05-11T22:34:04.335693Z"
    }
   },
   "outputs": [],
   "source": [
    "def depth_extract(path2bam, chrom, pos):\n",
    "    \n",
    "    cmd = (f'samtools depth -r {chrom}:{pos}-{pos} {path2bam}').split()\n",
    "    process = subprocess.Popen(cmd, stdout=subprocess.PIPE)\n",
    "    output, error = process.communicate()\n",
    "    output_list = str(output)[2:-3].split('\\\\t')\n",
    "    depth = output_list[-1]\n",
    "    depth = int(depth) if len(depth)>0 else 0\n",
    "    \n",
    "    return depth"
   ]
  },
  {
   "cell_type": "code",
   "execution_count": 275,
   "id": "85a3c490",
   "metadata": {
    "ExecuteTime": {
     "end_time": "2023-05-11T22:35:23.604607Z",
     "start_time": "2023-05-11T22:35:23.596913Z"
    }
   },
   "outputs": [],
   "source": [
    "def calc_vaf(variants_df, bam_name):\n",
    "    vaf_list = []\n",
    "    for i in range(variants_df.shape[0]):\n",
    "        chrom, start = variants_df.iloc[i, :2]\n",
    "        depth = depth_extract(f'{path}/{bam_name}', chrom, start)\n",
    "        t_alt_count = stats.binom.rvs(n=depth, p=expected_vaf)\n",
    "        if depth>0:\n",
    "            vaf = t_alt_count/depth\n",
    "        else:\n",
    "            vaf = 0\n",
    "        vaf_list.append(vaf)\n",
    "\n",
    "    return vaf_list"
   ]
  },
  {
   "cell_type": "code",
   "execution_count": 218,
   "id": "f5ef3916",
   "metadata": {
    "ExecuteTime": {
     "end_time": "2023-05-11T21:55:08.080764Z",
     "start_time": "2023-05-11T21:55:08.068404Z"
    }
   },
   "outputs": [],
   "source": [
    "# MODIFY\n",
    "\n",
    "# path to save bamsurgeon configure files\n",
    "path = 'mutations'\n",
    "bam_name = 'input.bam'\n",
    "\n",
    "# if you want to introduce heterozygous mutations in\n",
    "# diploid genome, you should use vaf equaled\n",
    "# half purity\n",
    "expected_vaf = 0.3"
   ]
  },
  {
   "cell_type": "markdown",
   "id": "c4d1d01d",
   "metadata": {},
   "source": [
    "## INDELs"
   ]
  },
  {
   "cell_type": "markdown",
   "id": "8b6fd8c4",
   "metadata": {},
   "source": [
    "Вносим мутации в сложные регионы"
   ]
  },
  {
   "cell_type": "code",
   "execution_count": 259,
   "id": "666a2afb",
   "metadata": {
    "ExecuteTime": {
     "end_time": "2023-05-11T22:15:17.076016Z",
     "start_time": "2023-05-11T22:15:15.342211Z"
    }
   },
   "outputs": [],
   "source": [
    "ins_df = gen_ins(intersect_df, 50)\n",
    "ins_df['vaf'] = calc_vaf(ins_df, bam_name)"
   ]
  },
  {
   "cell_type": "code",
   "execution_count": 260,
   "id": "d4e3e67c",
   "metadata": {
    "ExecuteTime": {
     "end_time": "2023-05-11T22:15:19.810230Z",
     "start_time": "2023-05-11T22:15:18.036254Z"
    },
    "scrolled": true
   },
   "outputs": [],
   "source": [
    "# делеции вносим в регионы, в которые не инсерции\n",
    "del_df = gen_del(\n",
    "    intersect_df[~intersect_df.index.isin(ins_df.index)],\n",
    "    50\n",
    ")\n",
    "del_df['vaf'] = calc_vaf(del_df, bam_name)"
   ]
  },
  {
   "cell_type": "markdown",
   "id": "20971a5f",
   "metadata": {},
   "source": [
    "Вносим мутации в обычные регионы"
   ]
  },
  {
   "cell_type": "code",
   "execution_count": 263,
   "id": "98376149",
   "metadata": {
    "ExecuteTime": {
     "end_time": "2023-05-11T22:15:35.723663Z",
     "start_time": "2023-05-11T22:15:33.964738Z"
    }
   },
   "outputs": [],
   "source": [
    "ins_df_2 = gen_ins(subtract_df, 50)\n",
    "ins_df_2['vaf'] = calc_vaf(ins_df_2, bam_name)"
   ]
  },
  {
   "cell_type": "code",
   "execution_count": 264,
   "id": "de141275",
   "metadata": {
    "ExecuteTime": {
     "end_time": "2023-05-11T22:15:38.847655Z",
     "start_time": "2023-05-11T22:15:37.124745Z"
    },
    "scrolled": true
   },
   "outputs": [],
   "source": [
    "del_df_2 = gen_del(\n",
    "    subtract_df[~subtract_df.index.isin(ins_df_2.index)],\n",
    "    50\n",
    ")\n",
    "del_df_2['vaf'] = calc_vaf(del_df_2, bam_name)"
   ]
  },
  {
   "cell_type": "code",
   "execution_count": 266,
   "id": "c05c71df",
   "metadata": {
    "ExecuteTime": {
     "end_time": "2023-05-11T22:16:27.914773Z",
     "start_time": "2023-05-11T22:16:27.904172Z"
    }
   },
   "outputs": [],
   "source": [
    "indel_df = pd.concat(\n",
    "    [\n",
    "        del_df[['chrom', 'start', 'end', 'vaf', 'label']],\n",
    "        del_df_2, ins_df, ins_df_2\n",
    "    ]\n",
    ")"
   ]
  },
  {
   "cell_type": "code",
   "execution_count": 270,
   "id": "2de933bb",
   "metadata": {
    "ExecuteTime": {
     "end_time": "2023-05-11T22:30:59.452898Z",
     "start_time": "2023-05-11T22:30:59.448064Z"
    }
   },
   "outputs": [],
   "source": [
    "indel_df = indel_df.reset_index(drop=True)"
   ]
  },
  {
   "cell_type": "code",
   "execution_count": 267,
   "id": "f22f7dad",
   "metadata": {
    "ExecuteTime": {
     "end_time": "2023-05-11T22:22:08.758051Z",
     "start_time": "2023-05-11T22:22:08.747856Z"
    }
   },
   "outputs": [],
   "source": [
    "indel_df.to_csv(f'{path}/indel_1.txt', sep = '\\t', header=False, index = False)"
   ]
  },
  {
   "cell_type": "code",
   "execution_count": 277,
   "id": "17c05032",
   "metadata": {
    "ExecuteTime": {
     "end_time": "2023-05-11T22:36:29.653980Z",
     "start_time": "2023-05-11T22:36:29.647173Z"
    }
   },
   "outputs": [],
   "source": [
    "indel_df_2 = indel_df.copy()"
   ]
  },
  {
   "cell_type": "code",
   "execution_count": 278,
   "id": "eaa3761c",
   "metadata": {
    "ExecuteTime": {
     "end_time": "2023-05-11T22:36:56.357199Z",
     "start_time": "2023-05-11T22:36:44.447929Z"
    },
    "collapsed": true
   },
   "outputs": [
    {
     "name": "stderr",
     "output_type": "stream",
     "text": [
      "[W::hts_idx_load2] The index file is older than the data file: /home/gkhegai/Projects/2023/BI_insilico_validation/docker_folder/WES-normal-A01231:87:H57FJDRXY:2.bai\n",
      "[W::hts_idx_load2] The index file is older than the data file: /home/gkhegai/Projects/2023/BI_insilico_validation/docker_folder/WES-normal-A01231:87:H57FJDRXY:2.bai\n",
      "[W::hts_idx_load2] The index file is older than the data file: /home/gkhegai/Projects/2023/BI_insilico_validation/docker_folder/WES-normal-A01231:87:H57FJDRXY:2.bai\n",
      "[W::hts_idx_load2] The index file is older than the data file: /home/gkhegai/Projects/2023/BI_insilico_validation/docker_folder/WES-normal-A01231:87:H57FJDRXY:2.bai\n",
      "[W::hts_idx_load2] The index file is older than the data file: /home/gkhegai/Projects/2023/BI_insilico_validation/docker_folder/WES-normal-A01231:87:H57FJDRXY:2.bai\n",
      "[W::hts_idx_load2] The index file is older than the data file: /home/gkhegai/Projects/2023/BI_insilico_validation/docker_folder/WES-normal-A01231:87:H57FJDRXY:2.bai\n",
      "[W::hts_idx_load2] The index file is older than the data file: /home/gkhegai/Projects/2023/BI_insilico_validation/docker_folder/WES-normal-A01231:87:H57FJDRXY:2.bai\n",
      "[W::hts_idx_load2] The index file is older than the data file: /home/gkhegai/Projects/2023/BI_insilico_validation/docker_folder/WES-normal-A01231:87:H57FJDRXY:2.bai\n",
      "[W::hts_idx_load2] The index file is older than the data file: /home/gkhegai/Projects/2023/BI_insilico_validation/docker_folder/WES-normal-A01231:87:H57FJDRXY:2.bai\n",
      "[W::hts_idx_load2] The index file is older than the data file: /home/gkhegai/Projects/2023/BI_insilico_validation/docker_folder/WES-normal-A01231:87:H57FJDRXY:2.bai\n",
      "[W::hts_idx_load2] The index file is older than the data file: /home/gkhegai/Projects/2023/BI_insilico_validation/docker_folder/WES-normal-A01231:87:H57FJDRXY:2.bai\n",
      "[W::hts_idx_load2] The index file is older than the data file: /home/gkhegai/Projects/2023/BI_insilico_validation/docker_folder/WES-normal-A01231:87:H57FJDRXY:2.bai\n",
      "[W::hts_idx_load2] The index file is older than the data file: /home/gkhegai/Projects/2023/BI_insilico_validation/docker_folder/WES-normal-A01231:87:H57FJDRXY:2.bai\n",
      "[W::hts_idx_load2] The index file is older than the data file: /home/gkhegai/Projects/2023/BI_insilico_validation/docker_folder/WES-normal-A01231:87:H57FJDRXY:2.bai\n",
      "[W::hts_idx_load2] The index file is older than the data file: /home/gkhegai/Projects/2023/BI_insilico_validation/docker_folder/WES-normal-A01231:87:H57FJDRXY:2.bai\n",
      "[W::hts_idx_load2] The index file is older than the data file: /home/gkhegai/Projects/2023/BI_insilico_validation/docker_folder/WES-normal-A01231:87:H57FJDRXY:2.bai\n",
      "[W::hts_idx_load2] The index file is older than the data file: /home/gkhegai/Projects/2023/BI_insilico_validation/docker_folder/WES-normal-A01231:87:H57FJDRXY:2.bai\n",
      "[W::hts_idx_load2] The index file is older than the data file: /home/gkhegai/Projects/2023/BI_insilico_validation/docker_folder/WES-normal-A01231:87:H57FJDRXY:2.bai\n",
      "[W::hts_idx_load2] The index file is older than the data file: /home/gkhegai/Projects/2023/BI_insilico_validation/docker_folder/WES-normal-A01231:87:H57FJDRXY:2.bai\n",
      "[W::hts_idx_load2] The index file is older than the data file: /home/gkhegai/Projects/2023/BI_insilico_validation/docker_folder/WES-normal-A01231:87:H57FJDRXY:2.bai\n",
      "[W::hts_idx_load2] The index file is older than the data file: /home/gkhegai/Projects/2023/BI_insilico_validation/docker_folder/WES-normal-A01231:87:H57FJDRXY:2.bai\n",
      "[W::hts_idx_load2] The index file is older than the data file: /home/gkhegai/Projects/2023/BI_insilico_validation/docker_folder/WES-normal-A01231:87:H57FJDRXY:2.bai\n",
      "[W::hts_idx_load2] The index file is older than the data file: /home/gkhegai/Projects/2023/BI_insilico_validation/docker_folder/WES-normal-A01231:87:H57FJDRXY:2.bai\n",
      "[W::hts_idx_load2] The index file is older than the data file: /home/gkhegai/Projects/2023/BI_insilico_validation/docker_folder/WES-normal-A01231:87:H57FJDRXY:2.bai\n",
      "[W::hts_idx_load2] The index file is older than the data file: /home/gkhegai/Projects/2023/BI_insilico_validation/docker_folder/WES-normal-A01231:87:H57FJDRXY:2.bai\n",
      "[W::hts_idx_load2] The index file is older than the data file: /home/gkhegai/Projects/2023/BI_insilico_validation/docker_folder/WES-normal-A01231:87:H57FJDRXY:2.bai\n",
      "[W::hts_idx_load2] The index file is older than the data file: /home/gkhegai/Projects/2023/BI_insilico_validation/docker_folder/WES-normal-A01231:87:H57FJDRXY:2.bai\n",
      "[W::hts_idx_load2] The index file is older than the data file: /home/gkhegai/Projects/2023/BI_insilico_validation/docker_folder/WES-normal-A01231:87:H57FJDRXY:2.bai\n",
      "[W::hts_idx_load2] The index file is older than the data file: /home/gkhegai/Projects/2023/BI_insilico_validation/docker_folder/WES-normal-A01231:87:H57FJDRXY:2.bai\n",
      "[W::hts_idx_load2] The index file is older than the data file: /home/gkhegai/Projects/2023/BI_insilico_validation/docker_folder/WES-normal-A01231:87:H57FJDRXY:2.bai\n",
      "[W::hts_idx_load2] The index file is older than the data file: /home/gkhegai/Projects/2023/BI_insilico_validation/docker_folder/WES-normal-A01231:87:H57FJDRXY:2.bai\n",
      "[W::hts_idx_load2] The index file is older than the data file: /home/gkhegai/Projects/2023/BI_insilico_validation/docker_folder/WES-normal-A01231:87:H57FJDRXY:2.bai\n",
      "[W::hts_idx_load2] The index file is older than the data file: /home/gkhegai/Projects/2023/BI_insilico_validation/docker_folder/WES-normal-A01231:87:H57FJDRXY:2.bai\n",
      "[W::hts_idx_load2] The index file is older than the data file: /home/gkhegai/Projects/2023/BI_insilico_validation/docker_folder/WES-normal-A01231:87:H57FJDRXY:2.bai\n",
      "[W::hts_idx_load2] The index file is older than the data file: /home/gkhegai/Projects/2023/BI_insilico_validation/docker_folder/WES-normal-A01231:87:H57FJDRXY:2.bai\n",
      "[W::hts_idx_load2] The index file is older than the data file: /home/gkhegai/Projects/2023/BI_insilico_validation/docker_folder/WES-normal-A01231:87:H57FJDRXY:2.bai\n",
      "[W::hts_idx_load2] The index file is older than the data file: /home/gkhegai/Projects/2023/BI_insilico_validation/docker_folder/WES-normal-A01231:87:H57FJDRXY:2.bai\n",
      "[W::hts_idx_load2] The index file is older than the data file: /home/gkhegai/Projects/2023/BI_insilico_validation/docker_folder/WES-normal-A01231:87:H57FJDRXY:2.bai\n",
      "[W::hts_idx_load2] The index file is older than the data file: /home/gkhegai/Projects/2023/BI_insilico_validation/docker_folder/WES-normal-A01231:87:H57FJDRXY:2.bai\n",
      "[W::hts_idx_load2] The index file is older than the data file: /home/gkhegai/Projects/2023/BI_insilico_validation/docker_folder/WES-normal-A01231:87:H57FJDRXY:2.bai\n",
      "[W::hts_idx_load2] The index file is older than the data file: /home/gkhegai/Projects/2023/BI_insilico_validation/docker_folder/WES-normal-A01231:87:H57FJDRXY:2.bai\n",
      "[W::hts_idx_load2] The index file is older than the data file: /home/gkhegai/Projects/2023/BI_insilico_validation/docker_folder/WES-normal-A01231:87:H57FJDRXY:2.bai\n",
      "[W::hts_idx_load2] The index file is older than the data file: /home/gkhegai/Projects/2023/BI_insilico_validation/docker_folder/WES-normal-A01231:87:H57FJDRXY:2.bai\n",
      "[W::hts_idx_load2] The index file is older than the data file: /home/gkhegai/Projects/2023/BI_insilico_validation/docker_folder/WES-normal-A01231:87:H57FJDRXY:2.bai\n",
      "[W::hts_idx_load2] The index file is older than the data file: /home/gkhegai/Projects/2023/BI_insilico_validation/docker_folder/WES-normal-A01231:87:H57FJDRXY:2.bai\n",
      "[W::hts_idx_load2] The index file is older than the data file: /home/gkhegai/Projects/2023/BI_insilico_validation/docker_folder/WES-normal-A01231:87:H57FJDRXY:2.bai\n",
      "[W::hts_idx_load2] The index file is older than the data file: /home/gkhegai/Projects/2023/BI_insilico_validation/docker_folder/WES-normal-A01231:87:H57FJDRXY:2.bai\n",
      "[W::hts_idx_load2] The index file is older than the data file: /home/gkhegai/Projects/2023/BI_insilico_validation/docker_folder/WES-normal-A01231:87:H57FJDRXY:2.bai\n",
      "[W::hts_idx_load2] The index file is older than the data file: /home/gkhegai/Projects/2023/BI_insilico_validation/docker_folder/WES-normal-A01231:87:H57FJDRXY:2.bai\n",
      "[W::hts_idx_load2] The index file is older than the data file: /home/gkhegai/Projects/2023/BI_insilico_validation/docker_folder/WES-normal-A01231:87:H57FJDRXY:2.bai\n",
      "[W::hts_idx_load2] The index file is older than the data file: /home/gkhegai/Projects/2023/BI_insilico_validation/docker_folder/WES-normal-A01231:87:H57FJDRXY:2.bai\n",
      "[W::hts_idx_load2] The index file is older than the data file: /home/gkhegai/Projects/2023/BI_insilico_validation/docker_folder/WES-normal-A01231:87:H57FJDRXY:2.bai\n",
      "[W::hts_idx_load2] The index file is older than the data file: /home/gkhegai/Projects/2023/BI_insilico_validation/docker_folder/WES-normal-A01231:87:H57FJDRXY:2.bai\n",
      "[W::hts_idx_load2] The index file is older than the data file: /home/gkhegai/Projects/2023/BI_insilico_validation/docker_folder/WES-normal-A01231:87:H57FJDRXY:2.bai\n",
      "[W::hts_idx_load2] The index file is older than the data file: /home/gkhegai/Projects/2023/BI_insilico_validation/docker_folder/WES-normal-A01231:87:H57FJDRXY:2.bai\n",
      "[W::hts_idx_load2] The index file is older than the data file: /home/gkhegai/Projects/2023/BI_insilico_validation/docker_folder/WES-normal-A01231:87:H57FJDRXY:2.bai\n",
      "[W::hts_idx_load2] The index file is older than the data file: /home/gkhegai/Projects/2023/BI_insilico_validation/docker_folder/WES-normal-A01231:87:H57FJDRXY:2.bai\n",
      "[W::hts_idx_load2] The index file is older than the data file: /home/gkhegai/Projects/2023/BI_insilico_validation/docker_folder/WES-normal-A01231:87:H57FJDRXY:2.bai\n",
      "[W::hts_idx_load2] The index file is older than the data file: /home/gkhegai/Projects/2023/BI_insilico_validation/docker_folder/WES-normal-A01231:87:H57FJDRXY:2.bai\n",
      "[W::hts_idx_load2] The index file is older than the data file: /home/gkhegai/Projects/2023/BI_insilico_validation/docker_folder/WES-normal-A01231:87:H57FJDRXY:2.bai\n",
      "[W::hts_idx_load2] The index file is older than the data file: /home/gkhegai/Projects/2023/BI_insilico_validation/docker_folder/WES-normal-A01231:87:H57FJDRXY:2.bai\n",
      "[W::hts_idx_load2] The index file is older than the data file: /home/gkhegai/Projects/2023/BI_insilico_validation/docker_folder/WES-normal-A01231:87:H57FJDRXY:2.bai\n",
      "[W::hts_idx_load2] The index file is older than the data file: /home/gkhegai/Projects/2023/BI_insilico_validation/docker_folder/WES-normal-A01231:87:H57FJDRXY:2.bai\n",
      "[W::hts_idx_load2] The index file is older than the data file: /home/gkhegai/Projects/2023/BI_insilico_validation/docker_folder/WES-normal-A01231:87:H57FJDRXY:2.bai\n",
      "[W::hts_idx_load2] The index file is older than the data file: /home/gkhegai/Projects/2023/BI_insilico_validation/docker_folder/WES-normal-A01231:87:H57FJDRXY:2.bai\n",
      "[W::hts_idx_load2] The index file is older than the data file: /home/gkhegai/Projects/2023/BI_insilico_validation/docker_folder/WES-normal-A01231:87:H57FJDRXY:2.bai\n",
      "[W::hts_idx_load2] The index file is older than the data file: /home/gkhegai/Projects/2023/BI_insilico_validation/docker_folder/WES-normal-A01231:87:H57FJDRXY:2.bai\n",
      "[W::hts_idx_load2] The index file is older than the data file: /home/gkhegai/Projects/2023/BI_insilico_validation/docker_folder/WES-normal-A01231:87:H57FJDRXY:2.bai\n",
      "[W::hts_idx_load2] The index file is older than the data file: /home/gkhegai/Projects/2023/BI_insilico_validation/docker_folder/WES-normal-A01231:87:H57FJDRXY:2.bai\n",
      "[W::hts_idx_load2] The index file is older than the data file: /home/gkhegai/Projects/2023/BI_insilico_validation/docker_folder/WES-normal-A01231:87:H57FJDRXY:2.bai\n",
      "[W::hts_idx_load2] The index file is older than the data file: /home/gkhegai/Projects/2023/BI_insilico_validation/docker_folder/WES-normal-A01231:87:H57FJDRXY:2.bai\n",
      "[W::hts_idx_load2] The index file is older than the data file: /home/gkhegai/Projects/2023/BI_insilico_validation/docker_folder/WES-normal-A01231:87:H57FJDRXY:2.bai\n",
      "[W::hts_idx_load2] The index file is older than the data file: /home/gkhegai/Projects/2023/BI_insilico_validation/docker_folder/WES-normal-A01231:87:H57FJDRXY:2.bai\n",
      "[W::hts_idx_load2] The index file is older than the data file: /home/gkhegai/Projects/2023/BI_insilico_validation/docker_folder/WES-normal-A01231:87:H57FJDRXY:2.bai\n",
      "[W::hts_idx_load2] The index file is older than the data file: /home/gkhegai/Projects/2023/BI_insilico_validation/docker_folder/WES-normal-A01231:87:H57FJDRXY:2.bai\n",
      "[W::hts_idx_load2] The index file is older than the data file: /home/gkhegai/Projects/2023/BI_insilico_validation/docker_folder/WES-normal-A01231:87:H57FJDRXY:2.bai\n",
      "[W::hts_idx_load2] The index file is older than the data file: /home/gkhegai/Projects/2023/BI_insilico_validation/docker_folder/WES-normal-A01231:87:H57FJDRXY:2.bai\n",
      "[W::hts_idx_load2] The index file is older than the data file: /home/gkhegai/Projects/2023/BI_insilico_validation/docker_folder/WES-normal-A01231:87:H57FJDRXY:2.bai\n",
      "[W::hts_idx_load2] The index file is older than the data file: /home/gkhegai/Projects/2023/BI_insilico_validation/docker_folder/WES-normal-A01231:87:H57FJDRXY:2.bai\n",
      "[W::hts_idx_load2] The index file is older than the data file: /home/gkhegai/Projects/2023/BI_insilico_validation/docker_folder/WES-normal-A01231:87:H57FJDRXY:2.bai\n",
      "[W::hts_idx_load2] The index file is older than the data file: /home/gkhegai/Projects/2023/BI_insilico_validation/docker_folder/WES-normal-A01231:87:H57FJDRXY:2.bai\n",
      "[W::hts_idx_load2] The index file is older than the data file: /home/gkhegai/Projects/2023/BI_insilico_validation/docker_folder/WES-normal-A01231:87:H57FJDRXY:2.bai\n",
      "[W::hts_idx_load2] The index file is older than the data file: /home/gkhegai/Projects/2023/BI_insilico_validation/docker_folder/WES-normal-A01231:87:H57FJDRXY:2.bai\n",
      "[W::hts_idx_load2] The index file is older than the data file: /home/gkhegai/Projects/2023/BI_insilico_validation/docker_folder/WES-normal-A01231:87:H57FJDRXY:2.bai\n",
      "[W::hts_idx_load2] The index file is older than the data file: /home/gkhegai/Projects/2023/BI_insilico_validation/docker_folder/WES-normal-A01231:87:H57FJDRXY:2.bai\n",
      "[W::hts_idx_load2] The index file is older than the data file: /home/gkhegai/Projects/2023/BI_insilico_validation/docker_folder/WES-normal-A01231:87:H57FJDRXY:2.bai\n",
      "[W::hts_idx_load2] The index file is older than the data file: /home/gkhegai/Projects/2023/BI_insilico_validation/docker_folder/WES-normal-A01231:87:H57FJDRXY:2.bai\n",
      "[W::hts_idx_load2] The index file is older than the data file: /home/gkhegai/Projects/2023/BI_insilico_validation/docker_folder/WES-normal-A01231:87:H57FJDRXY:2.bai\n",
      "[W::hts_idx_load2] The index file is older than the data file: /home/gkhegai/Projects/2023/BI_insilico_validation/docker_folder/WES-normal-A01231:87:H57FJDRXY:2.bai\n",
      "[W::hts_idx_load2] The index file is older than the data file: /home/gkhegai/Projects/2023/BI_insilico_validation/docker_folder/WES-normal-A01231:87:H57FJDRXY:2.bai\n",
      "[W::hts_idx_load2] The index file is older than the data file: /home/gkhegai/Projects/2023/BI_insilico_validation/docker_folder/WES-normal-A01231:87:H57FJDRXY:2.bai\n",
      "[W::hts_idx_load2] The index file is older than the data file: /home/gkhegai/Projects/2023/BI_insilico_validation/docker_folder/WES-normal-A01231:87:H57FJDRXY:2.bai\n",
      "[W::hts_idx_load2] The index file is older than the data file: /home/gkhegai/Projects/2023/BI_insilico_validation/docker_folder/WES-normal-A01231:87:H57FJDRXY:2.bai\n",
      "[W::hts_idx_load2] The index file is older than the data file: /home/gkhegai/Projects/2023/BI_insilico_validation/docker_folder/WES-normal-A01231:87:H57FJDRXY:2.bai\n",
      "[W::hts_idx_load2] The index file is older than the data file: /home/gkhegai/Projects/2023/BI_insilico_validation/docker_folder/WES-normal-A01231:87:H57FJDRXY:2.bai\n",
      "[W::hts_idx_load2] The index file is older than the data file: /home/gkhegai/Projects/2023/BI_insilico_validation/docker_folder/WES-normal-A01231:87:H57FJDRXY:2.bai\n",
      "[W::hts_idx_load2] The index file is older than the data file: /home/gkhegai/Projects/2023/BI_insilico_validation/docker_folder/WES-normal-A01231:87:H57FJDRXY:2.bai\n",
      "[W::hts_idx_load2] The index file is older than the data file: /home/gkhegai/Projects/2023/BI_insilico_validation/docker_folder/WES-normal-A01231:87:H57FJDRXY:2.bai\n",
      "[W::hts_idx_load2] The index file is older than the data file: /home/gkhegai/Projects/2023/BI_insilico_validation/docker_folder/WES-normal-A01231:87:H57FJDRXY:2.bai\n",
      "[W::hts_idx_load2] The index file is older than the data file: /home/gkhegai/Projects/2023/BI_insilico_validation/docker_folder/WES-normal-A01231:87:H57FJDRXY:2.bai\n",
      "[W::hts_idx_load2] The index file is older than the data file: /home/gkhegai/Projects/2023/BI_insilico_validation/docker_folder/WES-normal-A01231:87:H57FJDRXY:2.bai\n",
      "[W::hts_idx_load2] The index file is older than the data file: /home/gkhegai/Projects/2023/BI_insilico_validation/docker_folder/WES-normal-A01231:87:H57FJDRXY:2.bai\n",
      "[W::hts_idx_load2] The index file is older than the data file: /home/gkhegai/Projects/2023/BI_insilico_validation/docker_folder/WES-normal-A01231:87:H57FJDRXY:2.bai\n",
      "[W::hts_idx_load2] The index file is older than the data file: /home/gkhegai/Projects/2023/BI_insilico_validation/docker_folder/WES-normal-A01231:87:H57FJDRXY:2.bai\n",
      "[W::hts_idx_load2] The index file is older than the data file: /home/gkhegai/Projects/2023/BI_insilico_validation/docker_folder/WES-normal-A01231:87:H57FJDRXY:2.bai\n",
      "[W::hts_idx_load2] The index file is older than the data file: /home/gkhegai/Projects/2023/BI_insilico_validation/docker_folder/WES-normal-A01231:87:H57FJDRXY:2.bai\n",
      "[W::hts_idx_load2] The index file is older than the data file: /home/gkhegai/Projects/2023/BI_insilico_validation/docker_folder/WES-normal-A01231:87:H57FJDRXY:2.bai\n",
      "[W::hts_idx_load2] The index file is older than the data file: /home/gkhegai/Projects/2023/BI_insilico_validation/docker_folder/WES-normal-A01231:87:H57FJDRXY:2.bai\n",
      "[W::hts_idx_load2] The index file is older than the data file: /home/gkhegai/Projects/2023/BI_insilico_validation/docker_folder/WES-normal-A01231:87:H57FJDRXY:2.bai\n",
      "[W::hts_idx_load2] The index file is older than the data file: /home/gkhegai/Projects/2023/BI_insilico_validation/docker_folder/WES-normal-A01231:87:H57FJDRXY:2.bai\n",
      "[W::hts_idx_load2] The index file is older than the data file: /home/gkhegai/Projects/2023/BI_insilico_validation/docker_folder/WES-normal-A01231:87:H57FJDRXY:2.bai\n",
      "[W::hts_idx_load2] The index file is older than the data file: /home/gkhegai/Projects/2023/BI_insilico_validation/docker_folder/WES-normal-A01231:87:H57FJDRXY:2.bai\n",
      "[W::hts_idx_load2] The index file is older than the data file: /home/gkhegai/Projects/2023/BI_insilico_validation/docker_folder/WES-normal-A01231:87:H57FJDRXY:2.bai\n",
      "[W::hts_idx_load2] The index file is older than the data file: /home/gkhegai/Projects/2023/BI_insilico_validation/docker_folder/WES-normal-A01231:87:H57FJDRXY:2.bai\n",
      "[W::hts_idx_load2] The index file is older than the data file: /home/gkhegai/Projects/2023/BI_insilico_validation/docker_folder/WES-normal-A01231:87:H57FJDRXY:2.bai\n",
      "[W::hts_idx_load2] The index file is older than the data file: /home/gkhegai/Projects/2023/BI_insilico_validation/docker_folder/WES-normal-A01231:87:H57FJDRXY:2.bai\n",
      "[W::hts_idx_load2] The index file is older than the data file: /home/gkhegai/Projects/2023/BI_insilico_validation/docker_folder/WES-normal-A01231:87:H57FJDRXY:2.bai\n",
      "[W::hts_idx_load2] The index file is older than the data file: /home/gkhegai/Projects/2023/BI_insilico_validation/docker_folder/WES-normal-A01231:87:H57FJDRXY:2.bai\n",
      "[W::hts_idx_load2] The index file is older than the data file: /home/gkhegai/Projects/2023/BI_insilico_validation/docker_folder/WES-normal-A01231:87:H57FJDRXY:2.bai\n",
      "[W::hts_idx_load2] The index file is older than the data file: /home/gkhegai/Projects/2023/BI_insilico_validation/docker_folder/WES-normal-A01231:87:H57FJDRXY:2.bai\n",
      "[W::hts_idx_load2] The index file is older than the data file: /home/gkhegai/Projects/2023/BI_insilico_validation/docker_folder/WES-normal-A01231:87:H57FJDRXY:2.bai\n",
      "[W::hts_idx_load2] The index file is older than the data file: /home/gkhegai/Projects/2023/BI_insilico_validation/docker_folder/WES-normal-A01231:87:H57FJDRXY:2.bai\n",
      "[W::hts_idx_load2] The index file is older than the data file: /home/gkhegai/Projects/2023/BI_insilico_validation/docker_folder/WES-normal-A01231:87:H57FJDRXY:2.bai\n",
      "[W::hts_idx_load2] The index file is older than the data file: /home/gkhegai/Projects/2023/BI_insilico_validation/docker_folder/WES-normal-A01231:87:H57FJDRXY:2.bai\n",
      "[W::hts_idx_load2] The index file is older than the data file: /home/gkhegai/Projects/2023/BI_insilico_validation/docker_folder/WES-normal-A01231:87:H57FJDRXY:2.bai\n",
      "[W::hts_idx_load2] The index file is older than the data file: /home/gkhegai/Projects/2023/BI_insilico_validation/docker_folder/WES-normal-A01231:87:H57FJDRXY:2.bai\n",
      "[W::hts_idx_load2] The index file is older than the data file: /home/gkhegai/Projects/2023/BI_insilico_validation/docker_folder/WES-normal-A01231:87:H57FJDRXY:2.bai\n",
      "[W::hts_idx_load2] The index file is older than the data file: /home/gkhegai/Projects/2023/BI_insilico_validation/docker_folder/WES-normal-A01231:87:H57FJDRXY:2.bai\n",
      "[W::hts_idx_load2] The index file is older than the data file: /home/gkhegai/Projects/2023/BI_insilico_validation/docker_folder/WES-normal-A01231:87:H57FJDRXY:2.bai\n",
      "[W::hts_idx_load2] The index file is older than the data file: /home/gkhegai/Projects/2023/BI_insilico_validation/docker_folder/WES-normal-A01231:87:H57FJDRXY:2.bai\n",
      "[W::hts_idx_load2] The index file is older than the data file: /home/gkhegai/Projects/2023/BI_insilico_validation/docker_folder/WES-normal-A01231:87:H57FJDRXY:2.bai\n",
      "[W::hts_idx_load2] The index file is older than the data file: /home/gkhegai/Projects/2023/BI_insilico_validation/docker_folder/WES-normal-A01231:87:H57FJDRXY:2.bai\n",
      "[W::hts_idx_load2] The index file is older than the data file: /home/gkhegai/Projects/2023/BI_insilico_validation/docker_folder/WES-normal-A01231:87:H57FJDRXY:2.bai\n",
      "[W::hts_idx_load2] The index file is older than the data file: /home/gkhegai/Projects/2023/BI_insilico_validation/docker_folder/WES-normal-A01231:87:H57FJDRXY:2.bai\n",
      "[W::hts_idx_load2] The index file is older than the data file: /home/gkhegai/Projects/2023/BI_insilico_validation/docker_folder/WES-normal-A01231:87:H57FJDRXY:2.bai\n",
      "[W::hts_idx_load2] The index file is older than the data file: /home/gkhegai/Projects/2023/BI_insilico_validation/docker_folder/WES-normal-A01231:87:H57FJDRXY:2.bai\n",
      "[W::hts_idx_load2] The index file is older than the data file: /home/gkhegai/Projects/2023/BI_insilico_validation/docker_folder/WES-normal-A01231:87:H57FJDRXY:2.bai\n",
      "[W::hts_idx_load2] The index file is older than the data file: /home/gkhegai/Projects/2023/BI_insilico_validation/docker_folder/WES-normal-A01231:87:H57FJDRXY:2.bai\n",
      "[W::hts_idx_load2] The index file is older than the data file: /home/gkhegai/Projects/2023/BI_insilico_validation/docker_folder/WES-normal-A01231:87:H57FJDRXY:2.bai\n",
      "[W::hts_idx_load2] The index file is older than the data file: /home/gkhegai/Projects/2023/BI_insilico_validation/docker_folder/WES-normal-A01231:87:H57FJDRXY:2.bai\n",
      "[W::hts_idx_load2] The index file is older than the data file: /home/gkhegai/Projects/2023/BI_insilico_validation/docker_folder/WES-normal-A01231:87:H57FJDRXY:2.bai\n",
      "[W::hts_idx_load2] The index file is older than the data file: /home/gkhegai/Projects/2023/BI_insilico_validation/docker_folder/WES-normal-A01231:87:H57FJDRXY:2.bai\n",
      "[W::hts_idx_load2] The index file is older than the data file: /home/gkhegai/Projects/2023/BI_insilico_validation/docker_folder/WES-normal-A01231:87:H57FJDRXY:2.bai\n",
      "[W::hts_idx_load2] The index file is older than the data file: /home/gkhegai/Projects/2023/BI_insilico_validation/docker_folder/WES-normal-A01231:87:H57FJDRXY:2.bai\n",
      "[W::hts_idx_load2] The index file is older than the data file: /home/gkhegai/Projects/2023/BI_insilico_validation/docker_folder/WES-normal-A01231:87:H57FJDRXY:2.bai\n",
      "[W::hts_idx_load2] The index file is older than the data file: /home/gkhegai/Projects/2023/BI_insilico_validation/docker_folder/WES-normal-A01231:87:H57FJDRXY:2.bai\n",
      "[W::hts_idx_load2] The index file is older than the data file: /home/gkhegai/Projects/2023/BI_insilico_validation/docker_folder/WES-normal-A01231:87:H57FJDRXY:2.bai\n",
      "[W::hts_idx_load2] The index file is older than the data file: /home/gkhegai/Projects/2023/BI_insilico_validation/docker_folder/WES-normal-A01231:87:H57FJDRXY:2.bai\n",
      "[W::hts_idx_load2] The index file is older than the data file: /home/gkhegai/Projects/2023/BI_insilico_validation/docker_folder/WES-normal-A01231:87:H57FJDRXY:2.bai\n",
      "[W::hts_idx_load2] The index file is older than the data file: /home/gkhegai/Projects/2023/BI_insilico_validation/docker_folder/WES-normal-A01231:87:H57FJDRXY:2.bai\n",
      "[W::hts_idx_load2] The index file is older than the data file: /home/gkhegai/Projects/2023/BI_insilico_validation/docker_folder/WES-normal-A01231:87:H57FJDRXY:2.bai\n",
      "[W::hts_idx_load2] The index file is older than the data file: /home/gkhegai/Projects/2023/BI_insilico_validation/docker_folder/WES-normal-A01231:87:H57FJDRXY:2.bai\n",
      "[W::hts_idx_load2] The index file is older than the data file: /home/gkhegai/Projects/2023/BI_insilico_validation/docker_folder/WES-normal-A01231:87:H57FJDRXY:2.bai\n",
      "[W::hts_idx_load2] The index file is older than the data file: /home/gkhegai/Projects/2023/BI_insilico_validation/docker_folder/WES-normal-A01231:87:H57FJDRXY:2.bai\n",
      "[W::hts_idx_load2] The index file is older than the data file: /home/gkhegai/Projects/2023/BI_insilico_validation/docker_folder/WES-normal-A01231:87:H57FJDRXY:2.bai\n",
      "[W::hts_idx_load2] The index file is older than the data file: /home/gkhegai/Projects/2023/BI_insilico_validation/docker_folder/WES-normal-A01231:87:H57FJDRXY:2.bai\n",
      "[W::hts_idx_load2] The index file is older than the data file: /home/gkhegai/Projects/2023/BI_insilico_validation/docker_folder/WES-normal-A01231:87:H57FJDRXY:2.bai\n",
      "[W::hts_idx_load2] The index file is older than the data file: /home/gkhegai/Projects/2023/BI_insilico_validation/docker_folder/WES-normal-A01231:87:H57FJDRXY:2.bai\n",
      "[W::hts_idx_load2] The index file is older than the data file: /home/gkhegai/Projects/2023/BI_insilico_validation/docker_folder/WES-normal-A01231:87:H57FJDRXY:2.bai\n",
      "[W::hts_idx_load2] The index file is older than the data file: /home/gkhegai/Projects/2023/BI_insilico_validation/docker_folder/WES-normal-A01231:87:H57FJDRXY:2.bai\n",
      "[W::hts_idx_load2] The index file is older than the data file: /home/gkhegai/Projects/2023/BI_insilico_validation/docker_folder/WES-normal-A01231:87:H57FJDRXY:2.bai\n",
      "[W::hts_idx_load2] The index file is older than the data file: /home/gkhegai/Projects/2023/BI_insilico_validation/docker_folder/WES-normal-A01231:87:H57FJDRXY:2.bai\n",
      "[W::hts_idx_load2] The index file is older than the data file: /home/gkhegai/Projects/2023/BI_insilico_validation/docker_folder/WES-normal-A01231:87:H57FJDRXY:2.bai\n",
      "[W::hts_idx_load2] The index file is older than the data file: /home/gkhegai/Projects/2023/BI_insilico_validation/docker_folder/WES-normal-A01231:87:H57FJDRXY:2.bai\n",
      "[W::hts_idx_load2] The index file is older than the data file: /home/gkhegai/Projects/2023/BI_insilico_validation/docker_folder/WES-normal-A01231:87:H57FJDRXY:2.bai\n",
      "[W::hts_idx_load2] The index file is older than the data file: /home/gkhegai/Projects/2023/BI_insilico_validation/docker_folder/WES-normal-A01231:87:H57FJDRXY:2.bai\n",
      "[W::hts_idx_load2] The index file is older than the data file: /home/gkhegai/Projects/2023/BI_insilico_validation/docker_folder/WES-normal-A01231:87:H57FJDRXY:2.bai\n",
      "[W::hts_idx_load2] The index file is older than the data file: /home/gkhegai/Projects/2023/BI_insilico_validation/docker_folder/WES-normal-A01231:87:H57FJDRXY:2.bai\n",
      "[W::hts_idx_load2] The index file is older than the data file: /home/gkhegai/Projects/2023/BI_insilico_validation/docker_folder/WES-normal-A01231:87:H57FJDRXY:2.bai\n",
      "[W::hts_idx_load2] The index file is older than the data file: /home/gkhegai/Projects/2023/BI_insilico_validation/docker_folder/WES-normal-A01231:87:H57FJDRXY:2.bai\n",
      "[W::hts_idx_load2] The index file is older than the data file: /home/gkhegai/Projects/2023/BI_insilico_validation/docker_folder/WES-normal-A01231:87:H57FJDRXY:2.bai\n",
      "[W::hts_idx_load2] The index file is older than the data file: /home/gkhegai/Projects/2023/BI_insilico_validation/docker_folder/WES-normal-A01231:87:H57FJDRXY:2.bai\n",
      "[W::hts_idx_load2] The index file is older than the data file: /home/gkhegai/Projects/2023/BI_insilico_validation/docker_folder/WES-normal-A01231:87:H57FJDRXY:2.bai\n",
      "[W::hts_idx_load2] The index file is older than the data file: /home/gkhegai/Projects/2023/BI_insilico_validation/docker_folder/WES-normal-A01231:87:H57FJDRXY:2.bai\n",
      "[W::hts_idx_load2] The index file is older than the data file: /home/gkhegai/Projects/2023/BI_insilico_validation/docker_folder/WES-normal-A01231:87:H57FJDRXY:2.bai\n",
      "[W::hts_idx_load2] The index file is older than the data file: /home/gkhegai/Projects/2023/BI_insilico_validation/docker_folder/WES-normal-A01231:87:H57FJDRXY:2.bai\n",
      "[W::hts_idx_load2] The index file is older than the data file: /home/gkhegai/Projects/2023/BI_insilico_validation/docker_folder/WES-normal-A01231:87:H57FJDRXY:2.bai\n",
      "[W::hts_idx_load2] The index file is older than the data file: /home/gkhegai/Projects/2023/BI_insilico_validation/docker_folder/WES-normal-A01231:87:H57FJDRXY:2.bai\n",
      "[W::hts_idx_load2] The index file is older than the data file: /home/gkhegai/Projects/2023/BI_insilico_validation/docker_folder/WES-normal-A01231:87:H57FJDRXY:2.bai\n",
      "[W::hts_idx_load2] The index file is older than the data file: /home/gkhegai/Projects/2023/BI_insilico_validation/docker_folder/WES-normal-A01231:87:H57FJDRXY:2.bai\n",
      "[W::hts_idx_load2] The index file is older than the data file: /home/gkhegai/Projects/2023/BI_insilico_validation/docker_folder/WES-normal-A01231:87:H57FJDRXY:2.bai\n",
      "[W::hts_idx_load2] The index file is older than the data file: /home/gkhegai/Projects/2023/BI_insilico_validation/docker_folder/WES-normal-A01231:87:H57FJDRXY:2.bai\n",
      "[W::hts_idx_load2] The index file is older than the data file: /home/gkhegai/Projects/2023/BI_insilico_validation/docker_folder/WES-normal-A01231:87:H57FJDRXY:2.bai\n",
      "[W::hts_idx_load2] The index file is older than the data file: /home/gkhegai/Projects/2023/BI_insilico_validation/docker_folder/WES-normal-A01231:87:H57FJDRXY:2.bai\n",
      "[W::hts_idx_load2] The index file is older than the data file: /home/gkhegai/Projects/2023/BI_insilico_validation/docker_folder/WES-normal-A01231:87:H57FJDRXY:2.bai\n",
      "[W::hts_idx_load2] The index file is older than the data file: /home/gkhegai/Projects/2023/BI_insilico_validation/docker_folder/WES-normal-A01231:87:H57FJDRXY:2.bai\n",
      "[W::hts_idx_load2] The index file is older than the data file: /home/gkhegai/Projects/2023/BI_insilico_validation/docker_folder/WES-normal-A01231:87:H57FJDRXY:2.bai\n",
      "[W::hts_idx_load2] The index file is older than the data file: /home/gkhegai/Projects/2023/BI_insilico_validation/docker_folder/WES-normal-A01231:87:H57FJDRXY:2.bai\n",
      "[W::hts_idx_load2] The index file is older than the data file: /home/gkhegai/Projects/2023/BI_insilico_validation/docker_folder/WES-normal-A01231:87:H57FJDRXY:2.bai\n",
      "[W::hts_idx_load2] The index file is older than the data file: /home/gkhegai/Projects/2023/BI_insilico_validation/docker_folder/WES-normal-A01231:87:H57FJDRXY:2.bai\n",
      "[W::hts_idx_load2] The index file is older than the data file: /home/gkhegai/Projects/2023/BI_insilico_validation/docker_folder/WES-normal-A01231:87:H57FJDRXY:2.bai\n",
      "[W::hts_idx_load2] The index file is older than the data file: /home/gkhegai/Projects/2023/BI_insilico_validation/docker_folder/WES-normal-A01231:87:H57FJDRXY:2.bai\n",
      "[W::hts_idx_load2] The index file is older than the data file: /home/gkhegai/Projects/2023/BI_insilico_validation/docker_folder/WES-normal-A01231:87:H57FJDRXY:2.bai\n",
      "[W::hts_idx_load2] The index file is older than the data file: /home/gkhegai/Projects/2023/BI_insilico_validation/docker_folder/WES-normal-A01231:87:H57FJDRXY:2.bai\n",
      "[W::hts_idx_load2] The index file is older than the data file: /home/gkhegai/Projects/2023/BI_insilico_validation/docker_folder/WES-normal-A01231:87:H57FJDRXY:2.bai\n",
      "[W::hts_idx_load2] The index file is older than the data file: /home/gkhegai/Projects/2023/BI_insilico_validation/docker_folder/WES-normal-A01231:87:H57FJDRXY:2.bai\n",
      "[W::hts_idx_load2] The index file is older than the data file: /home/gkhegai/Projects/2023/BI_insilico_validation/docker_folder/WES-normal-A01231:87:H57FJDRXY:2.bai\n",
      "[W::hts_idx_load2] The index file is older than the data file: /home/gkhegai/Projects/2023/BI_insilico_validation/docker_folder/WES-normal-A01231:87:H57FJDRXY:2.bai\n",
      "[W::hts_idx_load2] The index file is older than the data file: /home/gkhegai/Projects/2023/BI_insilico_validation/docker_folder/WES-normal-A01231:87:H57FJDRXY:2.bai\n",
      "[W::hts_idx_load2] The index file is older than the data file: /home/gkhegai/Projects/2023/BI_insilico_validation/docker_folder/WES-normal-A01231:87:H57FJDRXY:2.bai\n"
     ]
    }
   ],
   "source": [
    "indel_df_2['vaf'] =  calc_vaf(indel_df_2, bam_name=bam_name)"
   ]
  },
  {
   "cell_type": "code",
   "execution_count": 279,
   "id": "d6009eee",
   "metadata": {
    "ExecuteTime": {
     "end_time": "2023-05-11T22:37:00.615305Z",
     "start_time": "2023-05-11T22:37:00.603180Z"
    }
   },
   "outputs": [],
   "source": [
    "indel_df_2.to_csv(f'{path}/indel_2.txt', sep = '\\t', header=False, index = False)"
   ]
  },
  {
   "cell_type": "markdown",
   "id": "64343c80",
   "metadata": {},
   "source": [
    "## SNPs"
   ]
  },
  {
   "cell_type": "code",
   "execution_count": 281,
   "id": "bd0f7d3a",
   "metadata": {
    "ExecuteTime": {
     "end_time": "2023-05-11T22:53:59.082899Z",
     "start_time": "2023-05-11T22:53:55.448124Z"
    },
    "scrolled": true
   },
   "outputs": [],
   "source": [
    "snp_df = gen_snp(\n",
    "    intersect_df[\n",
    "        ~intersect_df.index.isin(ins_df.index)\n",
    "        &~intersect_df.index.isin(del_df.index)\n",
    "    ],\n",
    "    100\n",
    ")\n",
    "snp_df['vaf'] = calc_vaf(snp_df, bam_name)"
   ]
  },
  {
   "cell_type": "code",
   "execution_count": 283,
   "id": "fdcf6fc7",
   "metadata": {
    "ExecuteTime": {
     "end_time": "2023-05-11T22:54:42.605996Z",
     "start_time": "2023-05-11T22:54:38.926359Z"
    },
    "scrolled": true
   },
   "outputs": [],
   "source": [
    "snp_df_2 = gen_snp(\n",
    "    subtract_df[\n",
    "        ~subtract_df.index.isin(ins_df_2.index)\n",
    "        &~subtract_df.index.isin(del_df_2.index)\n",
    "    ],\n",
    "    100\n",
    ")\n",
    "snp_df_2['vaf'] = calc_vaf(snp_df_2, bam_name)"
   ]
  },
  {
   "cell_type": "code",
   "execution_count": 284,
   "id": "69f278af",
   "metadata": {
    "ExecuteTime": {
     "end_time": "2023-05-11T22:55:11.425456Z",
     "start_time": "2023-05-11T22:55:11.418065Z"
    }
   },
   "outputs": [],
   "source": [
    "snp_df_all = pd.concat([snp_df, snp_df_2])"
   ]
  },
  {
   "cell_type": "code",
   "execution_count": 286,
   "id": "6d377de9",
   "metadata": {
    "ExecuteTime": {
     "end_time": "2023-05-11T22:55:42.436377Z",
     "start_time": "2023-05-11T22:55:42.431167Z"
    }
   },
   "outputs": [],
   "source": [
    "snp_df_all = snp_df_all.reset_index(drop=True)"
   ]
  },
  {
   "cell_type": "code",
   "execution_count": 287,
   "id": "b384f8c8",
   "metadata": {
    "ExecuteTime": {
     "end_time": "2023-05-11T22:56:08.051084Z",
     "start_time": "2023-05-11T22:56:08.042063Z"
    }
   },
   "outputs": [],
   "source": [
    "snp_df_all.to_csv(f'{path}/snp_1.txt', sep = '\\t', header=False, index = False)"
   ]
  },
  {
   "cell_type": "code",
   "execution_count": 288,
   "id": "c15bf559",
   "metadata": {
    "ExecuteTime": {
     "end_time": "2023-05-11T22:56:17.510999Z",
     "start_time": "2023-05-11T22:56:17.505961Z"
    }
   },
   "outputs": [],
   "source": [
    "snp_df_all_2 = snp_df_all.copy()"
   ]
  },
  {
   "cell_type": "code",
   "execution_count": 289,
   "id": "7c5efd5c",
   "metadata": {
    "ExecuteTime": {
     "end_time": "2023-05-11T22:56:33.009340Z",
     "start_time": "2023-05-11T22:56:25.941204Z"
    },
    "scrolled": true
   },
   "outputs": [],
   "source": [
    "snp_df_all_2['vaf'] =  calc_vaf(snp_df_all_2, bam_name=bam_name)"
   ]
  },
  {
   "cell_type": "code",
   "execution_count": 290,
   "id": "b1a84d32",
   "metadata": {
    "ExecuteTime": {
     "end_time": "2023-05-11T22:56:41.365095Z",
     "start_time": "2023-05-11T22:56:41.356000Z"
    }
   },
   "outputs": [],
   "source": [
    "snp_df_all_2.to_csv(f'{path}/snp_2.txt', sep = '\\t', header=False, index = False)"
   ]
  }
 ],
 "metadata": {
  "kernelspec": {
   "display_name": "bior_3.10",
   "language": "python",
   "name": "bior_3.10"
  },
  "language_info": {
   "codemirror_mode": {
    "name": "ipython",
    "version": 3
   },
   "file_extension": ".py",
   "mimetype": "text/x-python",
   "name": "python",
   "nbconvert_exporter": "python",
   "pygments_lexer": "ipython3",
   "version": "3.10.11"
  },
  "toc": {
   "base_numbering": 1,
   "nav_menu": {},
   "number_sections": true,
   "sideBar": true,
   "skip_h1_title": false,
   "title_cell": "Table of Contents",
   "title_sidebar": "Contents",
   "toc_cell": true,
   "toc_position": {
    "height": "calc(100% - 180px)",
    "left": "10px",
    "top": "150px",
    "width": "178.075px"
   },
   "toc_section_display": true,
   "toc_window_display": true
  }
 },
 "nbformat": 4,
 "nbformat_minor": 5
}
